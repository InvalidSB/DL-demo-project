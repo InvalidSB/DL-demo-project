{
  "cells": [
    {
      "cell_type": "markdown",
      "source": [
        "# **Cauliflower Disease classification with Deep Learning.**\n",
        "\n",
        "\n",
        "---\n",
        "\n",
        "\n",
        "\n",
        "## In This is the file data is trained using with ResNet50V2 Model"
      ],
      "metadata": {
        "id": "O1ARctnIgz1a"
      }
    },
    {
      "cell_type": "code",
      "execution_count": null,
      "metadata": {
        "colab": {
          "base_uri": "https://localhost:8080/"
        },
        "id": "eSEUki01J9F0",
        "outputId": "c9804be4-bdd9-46a7-d2b1-bcd070a7c2e4"
      },
      "outputs": [
        {
          "output_type": "stream",
          "name": "stdout",
          "text": [
            "Mounted at /content/drive\n"
          ]
        }
      ],
      "source": [
        "f# Loading the  Data from google drive\n",
        "from google.colab import drive\n",
        "drive.mount('/content/drive', force_remount=True)\n",
        "\n",
        "\n",
        "root_path = '/content/drive/MyDrive/cauliflower-disease-dataset/final_dataset/'\n",
        "root_path_train = root_path + 'train/'\n",
        "root_path_test = root_path + 'test/'\n",
        "root_path_validation = root_path + 'validation/'"
      ]
    },
    {
      "cell_type": "code",
      "execution_count": null,
      "metadata": {
        "id": "3W0pYht4J-We"
      },
      "outputs": [],
      "source": [
        "import os\n",
        "os.chdir(root_path)"
      ]
    },
    {
      "cell_type": "code",
      "source": [
        "from google.colab import drive\n",
        "drive.mount('/content/drive')"
      ],
      "metadata": {
        "id": "IRBdYKf5ZCzo",
        "colab": {
          "base_uri": "https://localhost:8080/"
        },
        "outputId": "5971a5b0-9fa0-4300-d1bc-3c7d98ce1f71"
      },
      "execution_count": null,
      "outputs": [
        {
          "output_type": "stream",
          "name": "stdout",
          "text": [
            "Mounted at /content/drive\n"
          ]
        }
      ]
    },
    {
      "cell_type": "markdown",
      "source": [
        "## Importing all the necessary packages and modules"
      ],
      "metadata": {
        "id": "MOaE8mKUkNbi"
      }
    },
    {
      "cell_type": "code",
      "execution_count": null,
      "metadata": {
        "id": "ybp7khjuKKSk"
      },
      "outputs": [],
      "source": [
        "import numpy as np\n",
        "import pandas as pd\n",
        "import seaborn as sns\n",
        "import tensorflow as tf\n",
        "import cv2\n",
        "import matplotlib.pyplot as plt\n",
        "\n",
        "from tensorflow.keras.preprocessing.image import ImageDataGenerator\n",
        "from tensorflow.keras.preprocessing import image\n",
        "from tensorflow.keras.layers import Conv2D, MaxPooling2D, BatchNormalization\n",
        "from tensorflow.keras.layers import Dropout, Flatten, Input, Dense\n",
        "\n",
        "from tensorflow.keras.applications.mobilenet import MobileNet"
      ]
    },
    {
      "cell_type": "markdown",
      "source": [
        "# Building data generator function which prepare the training and testing(validating) data , Infact implementing the data augmentation with several parameters."
      ],
      "metadata": {
        "id": "I8eUhacskbcS"
      }
    },
    {
      "cell_type": "code",
      "execution_count": null,
      "metadata": {
        "id": "H9MzJp06KMXU"
      },
      "outputs": [],
      "source": [
        "def data_generator(color_mode='rgb', img_height=192, img_width=192, batch_size=16, shuffle=True):\n",
        "  train_datagen = ImageDataGenerator(\n",
        "    rescale = 1./255,\n",
        "    rotation_range=45,\n",
        "    width_shift_range=.15,\n",
        "    height_shift_range=.15,\n",
        "    shear_range=0.2,\n",
        "    zoom_range=0.2,\n",
        "    horizontal_flip=True\n",
        "  )\n",
        "  train_generator = train_datagen.flow_from_directory(\n",
        "    directory = root_path_train,\n",
        "    shuffle = shuffle,\n",
        "    target_size = (img_height, img_width),\n",
        "    batch_size = batch_size,\n",
        "    color_mode = color_mode,\n",
        "    class_mode = 'categorical',\n",
        "  )\n",
        "\n",
        "  validation_datagen = ImageDataGenerator(\n",
        "    rescale = 1./255\n",
        "  )\n",
        "  validation_generator = validation_datagen.flow_from_directory(\n",
        "    directory = root_path_validation,\n",
        "    target_size = (img_height, img_width),\n",
        "    batch_size = batch_size,\n",
        "    color_mode = color_mode,\n",
        "    class_mode = 'categorical',\n",
        "  )\n",
        "\n",
        "  test_generator = validation_datagen.flow_from_directory(\n",
        "    directory = root_path_test,\n",
        "    target_size = (img_height, img_height),\n",
        "    batch_size = batch_size,\n",
        "    color_mode = color_mode,\n",
        "    class_mode = 'categorical',\n",
        "  )\n",
        "\n",
        "  return train_generator, validation_generator, test_generator"
      ]
    },
    {
      "cell_type": "markdown",
      "source": [
        "### Defining some constant"
      ],
      "metadata": {
        "id": "4kTVKyz1k1RR"
      }
    },
    {
      "cell_type": "code",
      "execution_count": null,
      "metadata": {
        "id": "dF4H4dopKOb6"
      },
      "outputs": [],
      "source": [
        "BATCH_SIZE = [16]\n",
        "# BATCH_SIZE = [64, 32, 16, 8, 4]\n",
        "EPOCHS = 40\n",
        "COLOR_MODE = ['rgb']\n",
        "# IMAGE_SIZE = [224, 192, 160, 128]\n",
        "IMAGE_SIZE = [512]\n",
        "# OPTIMIZERS = ['SGD', 'Adam', 'Adadelta', 'Adagrad', 'Adamax', 'Nadam', 'Ftrl', 'RMSprop']\n",
        "OPTIMIZERS = ['Adam']"
      ]
    },
    {
      "cell_type": "markdown",
      "source": [
        "## Making the function which returns the model"
      ],
      "metadata": {
        "id": "6Apox9jtk8cd"
      }
    },
    {
      "cell_type": "code",
      "execution_count": null,
      "metadata": {
        "id": "wy44-bAKKp94"
      },
      "outputs": [],
      "source": [
        "def create_model_resnet50v2(image_size=192, color_mode='rgb', optimizer='adam'):\n",
        "    color_channel = 3 if color_mode == 'rgb' else 1\n",
        "    resnet = tf.keras.applications.resnet_v2.ResNet50V2(include_top=False, input_shape=(image_size, image_size, color_channel),\n",
        "                                                     pooling='avg', weights='imagenet')\n",
        "    model = tf.keras.models.Sequential([\n",
        "        resnet,\n",
        "        tf.keras.layers.Dropout(0.5),\n",
        "        tf.keras.layers.Dense(5, activation='softmax')\n",
        "    ])\n",
        "\n",
        "    model.layers[0].trainable = False\n",
        "    model.compile(loss='categorical_crossentropy', optimizer=optimizer, metrics=['accuracy',tf.keras.metrics.Precision(),tf.keras.metrics.Recall()])\n",
        "    return model\n",
        "\n"
      ]
    },
    {
      "cell_type": "markdown",
      "source": [
        "# Model training , here the for loops are for multiple training with several hyperparameters and optimizers."
      ],
      "metadata": {
        "id": "tivZh09evQYD"
      }
    },
    {
      "cell_type": "code",
      "source": [],
      "metadata": {
        "id": "8TA-r4EfvQA4"
      },
      "execution_count": null,
      "outputs": []
    },
    {
      "cell_type": "code",
      "execution_count": null,
      "metadata": {
        "colab": {
          "base_uri": "https://localhost:8080/"
        },
        "id": "zBk9ItOIKtCH",
        "outputId": "5dae8b9d-40e0-495a-ad45-d1beae2c79d9"
      },
      "outputs": [
        {
          "output_type": "stream",
          "name": "stdout",
          "text": [
            "Found 545 images belonging to 5 classes.\n",
            "Found 74 images belonging to 5 classes.\n",
            "Found 110 images belonging to 5 classes.\n",
            "Downloading data from https://storage.googleapis.com/tensorflow/keras-applications/resnet/resnet50v2_weights_tf_dim_ordering_tf_kernels_notop.h5\n",
            "94668760/94668760 [==============================] - 1s 0us/step\n",
            "------------------rgb, 16, 512--------------\n",
            "Epoch 1/50\n",
            "35/35 [==============================] - 815s 23s/step - loss: 1.4830 - accuracy: 0.4037 - precision: 0.5090 - recall: 0.1560 - val_loss: 1.1083 - val_accuracy: 0.5811 - val_precision: 0.7083 - val_recall: 0.2297\n",
            "Epoch 2/50\n",
            "35/35 [==============================] - 712s 20s/step - loss: 1.0502 - accuracy: 0.6092 - precision: 0.7739 - recall: 0.3706 - val_loss: 0.8965 - val_accuracy: 0.7027 - val_precision: 0.8947 - val_recall: 0.4595\n",
            "Epoch 3/50\n",
            "35/35 [==============================] - 709s 20s/step - loss: 0.8657 - accuracy: 0.6936 - precision: 0.8503 - recall: 0.5211 - val_loss: 0.7333 - val_accuracy: 0.7973 - val_precision: 0.9556 - val_recall: 0.5811\n",
            "Epoch 4/50\n",
            "35/35 [==============================] - 711s 20s/step - loss: 0.7735 - accuracy: 0.7303 - precision: 0.8399 - recall: 0.5872 - val_loss: 0.6470 - val_accuracy: 0.8378 - val_precision: 0.9434 - val_recall: 0.6757\n",
            "Epoch 5/50\n",
            "35/35 [==============================] - 774s 22s/step - loss: 0.6507 - accuracy: 0.7651 - precision: 0.8663 - recall: 0.6661 - val_loss: 0.6085 - val_accuracy: 0.8514 - val_precision: 0.9107 - val_recall: 0.6892\n",
            "Epoch 6/50\n",
            "35/35 [==============================] - 718s 20s/step - loss: 0.6477 - accuracy: 0.7835 - precision: 0.8627 - recall: 0.6569 - val_loss: 0.5466 - val_accuracy: 0.8784 - val_precision: 0.9649 - val_recall: 0.7432\n",
            "Epoch 7/50\n",
            "35/35 [==============================] - 714s 20s/step - loss: 0.5314 - accuracy: 0.8422 - precision: 0.9145 - recall: 0.7266 - val_loss: 0.5249 - val_accuracy: 0.8649 - val_precision: 0.9048 - val_recall: 0.7703\n",
            "Epoch 8/50\n",
            "35/35 [==============================] - 717s 20s/step - loss: 0.5522 - accuracy: 0.8202 - precision: 0.8797 - recall: 0.7248 - val_loss: 0.4722 - val_accuracy: 0.8784 - val_precision: 0.9831 - val_recall: 0.7838\n",
            "Epoch 9/50\n",
            "35/35 [==============================] - 716s 20s/step - loss: 0.4795 - accuracy: 0.8422 - precision: 0.9105 - recall: 0.7651 - val_loss: 0.4563 - val_accuracy: 0.8784 - val_precision: 0.9667 - val_recall: 0.7838\n",
            "Epoch 10/50\n",
            "35/35 [==============================] - 772s 22s/step - loss: 0.5079 - accuracy: 0.8202 - precision: 0.8822 - recall: 0.7560 - val_loss: 0.4312 - val_accuracy: 0.8919 - val_precision: 0.9841 - val_recall: 0.8378\n",
            "Epoch 11/50\n",
            "35/35 [==============================] - 707s 21s/step - loss: 0.4829 - accuracy: 0.8275 - precision: 0.8847 - recall: 0.7743 - val_loss: 0.4493 - val_accuracy: 0.8784 - val_precision: 0.9531 - val_recall: 0.8243\n",
            "Epoch 12/50\n",
            "35/35 [==============================] - 765s 22s/step - loss: 0.4605 - accuracy: 0.8495 - precision: 0.9091 - recall: 0.7890 - val_loss: 0.4695 - val_accuracy: 0.8649 - val_precision: 0.9194 - val_recall: 0.7703\n",
            "Epoch 13/50\n",
            "35/35 [==============================] - 709s 20s/step - loss: 0.4191 - accuracy: 0.8697 - precision: 0.9215 - recall: 0.8183 - val_loss: 0.5393 - val_accuracy: 0.7973 - val_precision: 0.8507 - val_recall: 0.7703\n",
            "Epoch 14/50\n",
            "35/35 [==============================] - 708s 20s/step - loss: 0.4402 - accuracy: 0.8404 - precision: 0.9261 - recall: 0.7817 - val_loss: 0.3875 - val_accuracy: 0.8649 - val_precision: 0.9265 - val_recall: 0.8514\n",
            "Epoch 15/50\n",
            "35/35 [==============================] - 707s 20s/step - loss: 0.4080 - accuracy: 0.8697 - precision: 0.9129 - recall: 0.8073 - val_loss: 0.4027 - val_accuracy: 0.8649 - val_precision: 0.9254 - val_recall: 0.8378\n",
            "Epoch 16/50\n",
            "35/35 [==============================] - 706s 20s/step - loss: 0.3820 - accuracy: 0.8752 - precision: 0.9214 - recall: 0.8385 - val_loss: 0.3720 - val_accuracy: 0.8919 - val_precision: 0.9275 - val_recall: 0.8649\n",
            "Epoch 17/50\n",
            "35/35 [==============================] - 706s 20s/step - loss: 0.3919 - accuracy: 0.8661 - precision: 0.9150 - recall: 0.8294 - val_loss: 0.3684 - val_accuracy: 0.8919 - val_precision: 0.9265 - val_recall: 0.8514\n",
            "Epoch 18/50\n",
            "35/35 [==============================] - 715s 20s/step - loss: 0.3541 - accuracy: 0.8881 - precision: 0.9315 - recall: 0.8477 - val_loss: 0.3591 - val_accuracy: 0.8784 - val_precision: 0.9275 - val_recall: 0.8649\n",
            "Epoch 19/50\n",
            "35/35 [==============================] - 707s 20s/step - loss: 0.3796 - accuracy: 0.8826 - precision: 0.9106 - recall: 0.8220 - val_loss: 0.3470 - val_accuracy: 0.8919 - val_precision: 0.9286 - val_recall: 0.8784\n",
            "Epoch 20/50\n",
            "35/35 [==============================] - 708s 20s/step - loss: 0.3989 - accuracy: 0.8495 - precision: 0.8970 - recall: 0.8147 - val_loss: 0.3383 - val_accuracy: 0.9054 - val_precision: 0.9545 - val_recall: 0.8514\n",
            "Epoch 21/50\n",
            "35/35 [==============================] - 705s 20s/step - loss: 0.3787 - accuracy: 0.8661 - precision: 0.9111 - recall: 0.8275 - val_loss: 0.3498 - val_accuracy: 0.9054 - val_precision: 0.9412 - val_recall: 0.8649\n",
            "Epoch 22/50\n",
            "35/35 [==============================] - 711s 20s/step - loss: 0.3378 - accuracy: 0.8972 - precision: 0.9339 - recall: 0.8550 - val_loss: 0.3234 - val_accuracy: 0.9054 - val_precision: 0.9844 - val_recall: 0.8514\n",
            "Epoch 23/50\n",
            "35/35 [==============================] - 705s 20s/step - loss: 0.3483 - accuracy: 0.8881 - precision: 0.9243 - recall: 0.8514 - val_loss: 0.3306 - val_accuracy: 0.9054 - val_precision: 0.9412 - val_recall: 0.8649\n",
            "Epoch 24/50\n",
            "35/35 [==============================] - 709s 20s/step - loss: 0.3484 - accuracy: 0.8954 - precision: 0.9352 - recall: 0.8477 - val_loss: 0.3190 - val_accuracy: 0.8919 - val_precision: 0.9275 - val_recall: 0.8649\n",
            "Epoch 25/50\n",
            "35/35 [==============================] - 702s 21s/step - loss: 0.3339 - accuracy: 0.8771 - precision: 0.9162 - recall: 0.8422 - val_loss: 0.3343 - val_accuracy: 0.8919 - val_precision: 0.9028 - val_recall: 0.8784\n",
            "Epoch 26/50\n",
            "35/35 [==============================] - 701s 20s/step - loss: 0.3384 - accuracy: 0.9046 - precision: 0.9359 - recall: 0.8844 - val_loss: 0.3164 - val_accuracy: 0.9189 - val_precision: 0.9559 - val_recall: 0.8784\n",
            "Epoch 27/50\n",
            "35/35 [==============================] - 690s 20s/step - loss: 0.2947 - accuracy: 0.9046 - precision: 0.9479 - recall: 0.8679 - val_loss: 0.2888 - val_accuracy: 0.9189 - val_precision: 0.9275 - val_recall: 0.8649\n",
            "Epoch 28/50\n",
            "35/35 [==============================] - 692s 20s/step - loss: 0.3251 - accuracy: 0.8936 - precision: 0.9206 - recall: 0.8514 - val_loss: 0.3100 - val_accuracy: 0.9054 - val_precision: 0.9420 - val_recall: 0.8784\n",
            "Epoch 29/50\n",
            "35/35 [==============================] - 697s 20s/step - loss: 0.3214 - accuracy: 0.8807 - precision: 0.9162 - recall: 0.8422 - val_loss: 0.2822 - val_accuracy: 0.9054 - val_precision: 0.9420 - val_recall: 0.8784\n",
            "Epoch 30/50\n",
            "35/35 [==============================] - 694s 20s/step - loss: 0.3042 - accuracy: 0.8954 - precision: 0.9308 - recall: 0.8642 - val_loss: 0.2709 - val_accuracy: 0.9054 - val_precision: 0.9848 - val_recall: 0.8784\n",
            "Epoch 31/50\n",
            "35/35 [==============================] - 689s 20s/step - loss: 0.3632 - accuracy: 0.8679 - precision: 0.8891 - recall: 0.8385 - val_loss: 0.3548 - val_accuracy: 0.8784 - val_precision: 0.9265 - val_recall: 0.8514\n",
            "Epoch 32/50\n",
            "35/35 [==============================] - 687s 20s/step - loss: 0.2758 - accuracy: 0.9138 - precision: 0.9470 - recall: 0.8844 - val_loss: 0.3227 - val_accuracy: 0.9189 - val_precision: 0.9420 - val_recall: 0.8784\n",
            "Epoch 33/50\n",
            "35/35 [==============================] - 693s 20s/step - loss: 0.2702 - accuracy: 0.9229 - precision: 0.9491 - recall: 0.8899 - val_loss: 0.2637 - val_accuracy: 0.9054 - val_precision: 0.9420 - val_recall: 0.8784\n",
            "Epoch 34/50\n",
            "35/35 [==============================] - 689s 20s/step - loss: 0.3126 - accuracy: 0.8826 - precision: 0.9256 - recall: 0.8440 - val_loss: 0.2925 - val_accuracy: 0.9054 - val_precision: 0.9420 - val_recall: 0.8784\n",
            "Epoch 35/50\n",
            "35/35 [==============================] - 689s 20s/step - loss: 0.2806 - accuracy: 0.9138 - precision: 0.9397 - recall: 0.8862 - val_loss: 0.2598 - val_accuracy: 0.9054 - val_precision: 0.9565 - val_recall: 0.8919\n",
            "Epoch 36/50\n",
            "35/35 [==============================] - 688s 20s/step - loss: 0.3150 - accuracy: 0.8972 - precision: 0.9201 - recall: 0.8661 - val_loss: 0.2610 - val_accuracy: 0.9189 - val_precision: 0.9577 - val_recall: 0.9189\n",
            "Epoch 37/50\n",
            "35/35 [==============================] - 685s 20s/step - loss: 0.2830 - accuracy: 0.9119 - precision: 0.9375 - recall: 0.8807 - val_loss: 0.3040 - val_accuracy: 0.9189 - val_precision: 0.9286 - val_recall: 0.8784\n",
            "Epoch 38/50\n",
            "35/35 [==============================] - 690s 20s/step - loss: 0.2972 - accuracy: 0.9009 - precision: 0.9241 - recall: 0.8716 - val_loss: 0.2466 - val_accuracy: 0.9054 - val_precision: 0.9429 - val_recall: 0.8919\n",
            "Epoch 39/50\n",
            "35/35 [==============================] - 709s 20s/step - loss: 0.2489 - accuracy: 0.9156 - precision: 0.9416 - recall: 0.8881 - val_loss: 0.2535 - val_accuracy: 0.9054 - val_precision: 0.9296 - val_recall: 0.8919\n",
            "Epoch 40/50\n",
            "35/35 [==============================] - 691s 20s/step - loss: 0.2962 - accuracy: 0.9009 - precision: 0.9262 - recall: 0.8752 - val_loss: 0.2748 - val_accuracy: 0.9189 - val_precision: 0.9286 - val_recall: 0.8784\n",
            "Epoch 41/50\n",
            "35/35 [==============================] - 749s 21s/step - loss: 0.2954 - accuracy: 0.9028 - precision: 0.9353 - recall: 0.8752 - val_loss: 0.2519 - val_accuracy: 0.9324 - val_precision: 0.9701 - val_recall: 0.8784\n",
            "Epoch 42/50\n",
            "35/35 [==============================] - 696s 20s/step - loss: 0.3033 - accuracy: 0.8991 - precision: 0.9318 - recall: 0.8771 - val_loss: 0.2280 - val_accuracy: 0.9189 - val_precision: 0.9429 - val_recall: 0.8919\n",
            "Epoch 43/50\n",
            "35/35 [==============================] - 690s 20s/step - loss: 0.2916 - accuracy: 0.9064 - precision: 0.9416 - recall: 0.8881 - val_loss: 0.2295 - val_accuracy: 0.9324 - val_precision: 0.9706 - val_recall: 0.8919\n",
            "Epoch 44/50\n",
            "35/35 [==============================] - 692s 20s/step - loss: 0.2622 - accuracy: 0.9083 - precision: 0.9375 - recall: 0.8807 - val_loss: 0.2313 - val_accuracy: 0.9189 - val_precision: 0.9420 - val_recall: 0.8784\n",
            "Epoch 45/50\n",
            "35/35 [==============================] - 692s 20s/step - loss: 0.2414 - accuracy: 0.9266 - precision: 0.9479 - recall: 0.9009 - val_loss: 0.2309 - val_accuracy: 0.9189 - val_precision: 0.9296 - val_recall: 0.8919\n",
            "Epoch 46/50\n",
            "35/35 [==============================] - 692s 20s/step - loss: 0.2470 - accuracy: 0.9284 - precision: 0.9464 - recall: 0.9064 - val_loss: 0.2495 - val_accuracy: 0.9189 - val_precision: 0.9559 - val_recall: 0.8784\n",
            "7/7 [==============================] - 123s 17s/step - loss: 0.2418 - accuracy: 0.9364 - precision: 0.9515 - recall: 0.8909\n",
            "----------------------[0.24180984497070312, 0.9363636374473572, 0.9514563083648682, 0.8909090757369995]--------------------\n"
          ]
        }
      ],
      "source": [
        "# history = []\n",
        "model_parameters = []\n",
        "count = 0\n",
        "# model = []\n",
        "\n",
        "for batch_len in range(len(BATCH_SIZE)):\n",
        "  for image_len in range(len(IMAGE_SIZE)):\n",
        "    for color_len in range(len(COLOR_MODE)):\n",
        "      for optimizers_len in range(len(OPTIMIZERS)):\n",
        "        train_generator, validation_generator, test_generator = data_generator(color_mode=COLOR_MODE[color_len], img_height=IMAGE_SIZE[image_len], img_width=IMAGE_SIZE[image_len], batch_size=BATCH_SIZE[batch_len])\n",
        "\n",
        "        model = create_model_resnet50v2(image_size=IMAGE_SIZE[image_len],color_mode=COLOR_MODE[color_len], optimizer=OPTIMIZERS[optimizers_len])\n",
        "\n",
        "        # print(len(model))\n",
        "\n",
        "        callback = tf.keras.callbacks.EarlyStopping(monitor='loss', patience=4)\n",
        "\n",
        "        print(f'------------------{COLOR_MODE[color_len]}, {BATCH_SIZE[batch_len]}, {IMAGE_SIZE[image_len]}--------------')\n",
        "\n",
        "        history = model.fit(\n",
        "            train_generator,\n",
        "            validation_data=validation_generator,\n",
        "            epochs=50,\n",
        "            callbacks=[tf.keras.callbacks.EarlyStopping(monitor='val_loss', patience=4)]\n",
        "        )\n",
        "        # batch_size=batch_size[batch_len],\n",
        "\n",
        "        model_test_results = model.evaluate(test_generator)\n",
        "        print(f'----------------------{model_test_results}--------------------')\n",
        "        model_parameters.append((COLOR_MODE[color_len], BATCH_SIZE[batch_len], IMAGE_SIZE[image_len], model_test_results))\n",
        "\n",
        "        count += 1"
      ]
    },
    {
      "cell_type": "markdown",
      "source": [
        "## Now ploting the results based on the model performance"
      ],
      "metadata": {
        "id": "uw3b0-tnvvM7"
      }
    },
    {
      "cell_type": "code",
      "execution_count": null,
      "metadata": {
        "colab": {
          "base_uri": "https://localhost:8080/",
          "height": 718
        },
        "id": "3Bs5Eg6nK4tB",
        "outputId": "cf936712-124c-4211-b903-167f458379d3"
      },
      "outputs": [
        {
          "output_type": "display_data",
          "data": {
            "text/plain": [
              "<IPython.core.display.Javascript object>"
            ],
            "application/javascript": [
              "\n",
              "    async function download(id, filename, size) {\n",
              "      if (!google.colab.kernel.accessAllowed) {\n",
              "        return;\n",
              "      }\n",
              "      const div = document.createElement('div');\n",
              "      const label = document.createElement('label');\n",
              "      label.textContent = `Downloading \"${filename}\": `;\n",
              "      div.appendChild(label);\n",
              "      const progress = document.createElement('progress');\n",
              "      progress.max = size;\n",
              "      div.appendChild(progress);\n",
              "      document.body.appendChild(div);\n",
              "\n",
              "      const buffers = [];\n",
              "      let downloaded = 0;\n",
              "\n",
              "      const channel = await google.colab.kernel.comms.open(id);\n",
              "      // Send a message to notify the kernel that we're ready.\n",
              "      channel.send({})\n",
              "\n",
              "      for await (const message of channel.messages) {\n",
              "        // Send a message to notify the kernel that we're ready.\n",
              "        channel.send({})\n",
              "        if (message.buffers) {\n",
              "          for (const buffer of message.buffers) {\n",
              "            buffers.push(buffer);\n",
              "            downloaded += buffer.byteLength;\n",
              "            progress.value = downloaded;\n",
              "          }\n",
              "        }\n",
              "      }\n",
              "      const blob = new Blob(buffers, {type: 'application/binary'});\n",
              "      const a = document.createElement('a');\n",
              "      a.href = window.URL.createObjectURL(blob);\n",
              "      a.download = filename;\n",
              "      div.appendChild(a);\n",
              "      a.click();\n",
              "      div.remove();\n",
              "    }\n",
              "  "
            ]
          },
          "metadata": {}
        },
        {
          "output_type": "display_data",
          "data": {
            "text/plain": [
              "<IPython.core.display.Javascript object>"
            ],
            "application/javascript": [
              "download(\"download_8eb80ce4-4e65-41bf-94f8-832866a56031\", \"abc.png\", 1374231)"
            ]
          },
          "metadata": {}
        },
        {
          "output_type": "display_data",
          "data": {
            "text/plain": [
              "<Figure size 800x800 with 2 Axes>"
            ],
            "image/png": "[encoded data removed]"
          },
          "metadata": {}
        }
      ],
      "source": [
        "acc = history.history['accuracy']\n",
        "val_acc = history.history['val_accuracy']\n",
        "\n",
        "loss = history.history['loss']\n",
        "val_loss = history.history['val_loss']\n",
        "\n",
        "plt.figure(figsize=(8, 8))\n",
        "plt.subplot(2,1, 1)\n",
        "plt.plot(acc, label='Training Accuracy')\n",
        "plt.plot(val_acc, label='Validation Accuracy')\n",
        "plt.legend(loc='lower right')\n",
        "plt.ylabel('Accuracy')\n",
        "plt.ylim([min(plt.ylim()),1])\n",
        "plt.title('Training and Validation Accuracy')\n",
        "\n",
        "plt.subplot(2, 1, 2)\n",
        "plt.plot(loss, label='Training Loss')\n",
        "plt.plot(val_loss, label='Validation Loss')\n",
        "plt.legend(loc='upper right')\n",
        "plt.ylabel('Cross Entropy')\n",
        "plt.ylim([0,1.0])\n",
        "plt.title('Training and Validation Loss')\n",
        "plt.xlabel('epoch')\n",
        "from google.colab import files\n",
        "plt.savefig(\"abc.png\", dpi=1200)\n",
        "files.download(\"abc.png\")\n",
        "# plt.show()\n"
      ]
    },
    {
      "cell_type": "code",
      "source": [
        "acc\n"
      ],
      "metadata": {
        "colab": {
          "base_uri": "https://localhost:8080/"
        },
        "id": "ONYOOn7Lg9VW",
        "outputId": "ef9239fc-402c-45e8-8eab-cefd61cb60dc"
      },
      "execution_count": null,
      "outputs": [
        {
          "output_type": "execute_result",
          "data": {
            "text/plain": [
              "[0.40366971492767334,\n",
              " 0.6091743111610413,\n",
              " 0.6935780048370361,\n",
              " 0.7302752137184143,\n",
              " 0.7651376128196716,\n",
              " 0.7834862470626831,\n",
              " 0.842201828956604,\n",
              " 0.820183515548706,\n",
              " 0.842201828956604,\n",
              " 0.820183515548706,\n",
              " 0.8275229334831238,\n",
              " 0.8495413064956665,\n",
              " 0.8697247505187988,\n",
              " 0.8403669595718384,\n",
              " 0.8697247505187988,\n",
              " 0.8752293586730957,\n",
              " 0.8660550713539124,\n",
              " 0.8880733847618103,\n",
              " 0.8825688362121582,\n",
              " 0.8495413064956665,\n",
              " 0.8660550713539124,\n",
              " 0.8972477316856384,\n",
              " 0.8880733847618103,\n",
              " 0.8954128623008728,\n",
              " 0.8770642280578613,\n",
              " 0.9045871496200562,\n",
              " 0.9045871496200562,\n",
              " 0.8935779929161072,\n",
              " 0.8807339668273926,\n",
              " 0.8954128623008728,\n",
              " 0.8678898811340332,\n",
              " 0.9137614965438843,\n",
              " 0.9229357838630676,\n",
              " 0.8825688362121582,\n",
              " 0.9137614965438843,\n",
              " 0.8972477316856384,\n",
              " 0.9119266271591187,\n",
              " 0.9009174108505249,\n",
              " 0.9155963063240051,\n",
              " 0.9009174108505249,\n",
              " 0.9027522802352905,\n",
              " 0.8990825414657593,\n",
              " 0.9064220190048218,\n",
              " 0.9082568883895874,\n",
              " 0.9266055226325989,\n",
              " 0.9284403920173645]"
            ]
          },
          "metadata": {},
          "execution_count": 9
        }
      ]
    },
    {
      "cell_type": "code",
      "execution_count": null,
      "metadata": {
        "id": "fuWSttJYoyVH",
        "colab": {
          "base_uri": "https://localhost:8080/"
        },
        "outputId": "e052ff7d-527b-464a-a2e1-a910c99623fa"
      },
      "outputs": [
        {
          "output_type": "stream",
          "name": "stderr",
          "text": [
            "WARNING:absl:Found untraced functions such as _update_step_xla, _jit_compiled_convolution_op, _jit_compiled_convolution_op, _jit_compiled_convolution_op, _jit_compiled_convolution_op while saving (showing 5 of 54). These functions will not be directly callable after loading.\n"
          ]
        }
      ],
      "source": [
        "model_path = root_path + 'model/' + 'resnet_aprl30/'\n",
        "model.save(model_path)"
      ]
    },
    {
      "cell_type": "code",
      "execution_count": null,
      "metadata": {
        "id": "bPPJ9AtQryjO"
      },
      "outputs": [],
      "source": [
        "model_path = root_path + 'model/' + 'resnet_aprl30/'"
      ]
    },
    {
      "cell_type": "code",
      "execution_count": null,
      "metadata": {
        "id": "Y40NjMYOFjxQ"
      },
      "outputs": [],
      "source": [
        "saved_model = tf.keras.models.load_model(model_path)"
      ]
    },
    {
      "cell_type": "code",
      "execution_count": null,
      "metadata": {
        "colab": {
          "base_uri": "https://localhost:8080/"
        },
        "id": "537UtD6qGP-4",
        "outputId": "8289c0ec-2ec5-48ce-8d0c-fa06174f6580"
      },
      "outputs": [
        {
          "output_type": "stream",
          "name": "stdout",
          "text": [
            "Found 545 images belonging to 5 classes.\n",
            "Found 74 images belonging to 5 classes.\n",
            "Found 110 images belonging to 5 classes.\n"
          ]
        }
      ],
      "source": [
        "train_generator, validation_generator, test_generator = data_generator(color_mode='rgb', img_height=512, img_width=512, batch_size=8)"
      ]
    },
    {
      "cell_type": "code",
      "execution_count": null,
      "metadata": {
        "id": "QUuE9TJGF5Rl",
        "colab": {
          "base_uri": "https://localhost:8080/"
        },
        "outputId": "7401ebb8-0255-4ecc-bd8e-58939bcffd7e"
      },
      "outputs": [
        {
          "output_type": "stream",
          "name": "stdout",
          "text": [
            "14/14 [==============================] - 123s 9s/step - loss: 0.2418 - accuracy: 0.9364 - precision: 0.9515 - recall: 0.8909\n"
          ]
        }
      ],
      "source": [
        "model_test_results = saved_model.evaluate(test_generator)"
      ]
    },
    {
      "cell_type": "markdown",
      "source": [
        "## Confusion Matrix"
      ],
      "metadata": {
        "id": "NXjGl848xSGr"
      }
    },
    {
      "cell_type": "code",
      "execution_count": null,
      "metadata": {
        "colab": {
          "base_uri": "https://localhost:8080/"
        },
        "id": "lQgIjAmOGoSK",
        "outputId": "c378b67d-2ae6-4788-8200-f93082db4080"
      },
      "outputs": [
        {
          "output_type": "stream",
          "name": "stderr",
          "text": [
            "<ipython-input-17-2d83726afac2>:4: UserWarning: `Model.predict_generator` is deprecated and will be removed in a future version. Please use `Model.predict`, which supports generators.\n",
            "  Y_pred = saved_model.predict_generator(test_generator)\n"
          ]
        },
        {
          "output_type": "stream",
          "name": "stdout",
          "text": [
            "Confusion Matrix\n",
            "[[4 5 4 4 3]\n",
            " [5 2 3 6 4]\n",
            " [4 4 4 7 4]\n",
            " [1 4 6 4 8]\n",
            " [4 6 4 4 6]]\n",
            "Classification Report\n",
            "                      precision    recall  f1-score   support\n",
            "\n",
            "Alternaria Leaf Spot       0.22      0.20      0.21        20\n",
            "           Black Rot       0.10      0.10      0.10        20\n",
            "       Cabbage Aphid       0.19      0.17      0.18        23\n",
            "      Cabbage Looper       0.16      0.17      0.17        23\n",
            "        Healthy Leaf       0.24      0.25      0.24        24\n",
            "\n",
            "            accuracy                           0.18       110\n",
            "           macro avg       0.18      0.18      0.18       110\n",
            "        weighted avg       0.18      0.18      0.18       110\n",
            "\n"
          ]
        }
      ],
      "source": [
        "from sklearn.metrics import classification_report, confusion_matrix\n",
        "\n",
        "# Y_pred = saved_model.predict_generator(test_generator, 47 // 8+1)\n",
        "Y_pred = saved_model.predict_generator(test_generator)\n",
        "y_pred = np.argmax(Y_pred, axis=1)\n",
        "print('Confusion Matrix')\n",
        "cf_matrix = confusion_matrix(test_generator.classes , y_pred)\n",
        "print(cf_matrix)\n",
        "print('Classification Report')\n",
        "target_names = test_generator.class_indices\n",
        "print(classification_report(test_generator.classes, y_pred, target_names=target_names))"
      ]
    },
    {
      "cell_type": "code",
      "source": [
        "import seaborn as sns\n",
        "sns.heatmap(cf_matrix, annot=True)"
      ],
      "metadata": {
        "colab": {
          "base_uri": "https://localhost:8080/",
          "height": 452
        },
        "id": "K9qOMBKKxU9Q",
        "outputId": "7749222c-b42c-4546-bdde-7bc7fa7c9944"
      },
      "execution_count": null,
      "outputs": [
        {
          "output_type": "execute_result",
          "data": {
            "text/plain": [
              "<Axes: >"
            ]
          },
          "metadata": {},
          "execution_count": 18
        },
        {
          "output_type": "display_data",
          "data": {
            "text/plain": [
              "<Figure size 640x480 with 2 Axes>"
            ],
            "image/png": "[encoded data removed]"
          },
          "metadata": {}
        }
      ]
    },
    {
      "cell_type": "markdown",
      "source": [
        "## Prediction"
      ],
      "metadata": {
        "id": "m-TNurfpxVNF"
      }
    },
    {
      "cell_type": "code",
      "source": [
        "#/content/drive/MyDrive/cauliflower-disease-dataset/final_dataset/test/Alternaria Leaf Spot/20220630614.jpg\n",
        "# /content/drive/MyDrive/cauliflower-disease-dataset/final_dataset/test/Alternaria Leaf Spot/IMG_20220630_102818.jpg\n",
        "# /content/drive/MyDrive/cauliflower-disease-dataset/final_dataset/test/Alternaria Leaf Spot/alternaria-bal.jpeg\n",
        "# /content/drive/MyDrive/cauliflower-disease-dataset/final_dataset/test/Alternaria Leaf Spot/IMG_2022063102809.jpg"
      ],
      "metadata": {
        "id": "3xLN9gMkUUU0"
      },
      "execution_count": null,
      "outputs": []
    },
    {
      "cell_type": "code",
      "execution_count": null,
      "metadata": {
        "id": "ZtrHXgxuHkYD",
        "colab": {
          "base_uri": "https://localhost:8080/"
        },
        "outputId": "da418a1d-d51c-4823-a842-8cb947b5ba8d"
      },
      "outputs": [
        {
          "output_type": "stream",
          "name": "stdout",
          "text": [
            "1/1 [==============================] - 2s 2s/step\n"
          ]
        }
      ],
      "source": [
        "# image = tf.keras.preprocessing.image.load_img(root_path + 'test/Alternaria Leaf Spot/20220630614.jpg', target_size=(512, 512))\n",
        "# image = tf.keras.preprocessing.image.load_img(root_path + 'test/Alternaria Leaf Spot/IMG_20220630_102818.jpg', target_size=(512, 512))\n",
        "# image = tf.keras.preprocessing.image.load_img(root_path + 'test/Alternaria Leaf Spot/alternaria-bal.jpeg', target_size=(512, 512))\n",
        "image = tf.keras.preprocessing.image.load_img(root_path + 'test/Alternaria Leaf Spot/IMG_2022063102809.jpg', target_size=(512, 512))\n",
        "\n",
        "image = tf.keras.preprocessing.image.img_to_array(image)\n",
        "image = image/255.0\n",
        "image = tf.expand_dims(image, 0)\n",
        "result = saved_model.predict(image)"
      ]
    },
    {
      "cell_type": "code",
      "execution_count": null,
      "metadata": {
        "colab": {
          "base_uri": "https://localhost:8080/"
        },
        "id": "qrtIjd7mLYZ_",
        "outputId": "ac447485-5954-4195-a4d6-3810a3be5cf5"
      },
      "outputs": [
        {
          "output_type": "execute_result",
          "data": {
            "text/plain": [
              "array([[9.9582052e-01, 8.2037511e-04, 1.9071675e-03, 1.4517297e-03,\n",
              "        1.0873636e-07]], dtype=float32)"
            ]
          },
          "metadata": {},
          "execution_count": 44
        }
      ],
      "source": [
        "result"
      ]
    },
    {
      "cell_type": "code",
      "source": [
        "labels"
      ],
      "metadata": {
        "colab": {
          "base_uri": "https://localhost:8080/"
        },
        "id": "uDWNLJBLUkK0",
        "outputId": "b3f9c505-4ed3-446e-ec58-92cc407be3bc"
      },
      "execution_count": null,
      "outputs": [
        {
          "output_type": "execute_result",
          "data": {
            "text/plain": [
              "{'Alternaria Leaf Spot': 0,\n",
              " 'Black Rot': 1,\n",
              " 'Cabbage Aphid': 2,\n",
              " 'Cabbage Looper': 3,\n",
              " 'Healthy Leaf': 4}"
            ]
          },
          "metadata": {},
          "execution_count": 45
        }
      ]
    },
    {
      "cell_type": "code",
      "execution_count": null,
      "metadata": {
        "colab": {
          "base_uri": "https://localhost:8080/",
          "height": 35
        },
        "id": "K8DmQ5jQMfGB",
        "outputId": "e9c7090e-4f5e-4b5d-b551-fb0796256185"
      },
      "outputs": [
        {
          "output_type": "execute_result",
          "data": {
            "text/plain": [
              "'Alternaria Leaf Spot'"
            ],
            "application/vnd.google.colaboratory.intrinsic+json": {
              "type": "string"
            }
          },
          "metadata": {},
          "execution_count": 46
        }
      ],
      "source": [
        "labels = train_generator.class_indices\n",
        "# predicted_class = labels[result.argmax(axis=-1)[0]]\n",
        "predicted_class = list(labels.keys())[np.argmax(result)]\n",
        "predicted_class"
      ]
    },
    {
      "cell_type": "code",
      "execution_count": null,
      "metadata": {
        "id": "WPVG8KSHMqfc"
      },
      "outputs": [],
      "source": []
    }
  ],
  "metadata": {
    "accelerator": "TPU",
    "colab": {
      "provenance": []
    },
    "kernelspec": {
      "display_name": "Python 3",
      "name": "python3"
    },
    "language_info": {
      "name": "python"
    },
    "gpuClass": "standard"
  },
  "nbformat": 4,
  "nbformat_minor": 0
}